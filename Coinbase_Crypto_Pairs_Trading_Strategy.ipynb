{
 "cells": [
  {
   "cell_type": "code",
   "execution_count": 4,
   "metadata": {},
   "outputs": [],
   "source": [
    "import requests\n",
    "import pandas as pd\n",
    "from datetime import datetime\n",
    "import numpy as np\n",
    "import os"
   ]
  },
  {
   "cell_type": "code",
   "execution_count": 5,
   "metadata": {},
   "outputs": [],
   "source": [
    "def fetch_stock_data(symbol, start_date, end_date, api_key):\n",
    "    # Define the API endpoint and parameters\n",
    "    endpoint = \"https://api.twelvedata.com/time_series\"\n",
    "    params = {\n",
    "        \"symbol\": symbol,\n",
    "        \"start_date\": start_date,\n",
    "        \"end_date\": end_date,\n",
    "        \"interval\": \"1day\",\n",
    "        \"apikey\": api_key\n",
    "    }\n",
    "\n",
    "    try:\n",
    "        # Send the HTTP request\n",
    "        response = requests.get(endpoint, params=params)\n",
    "        response.raise_for_status()  # Raise an exception for HTTP errors\n",
    "        data = response.json()\n",
    "\n",
    "        # Check if API returned an error message\n",
    "        if 'error' in data:\n",
    "            print(\"Error:\", data['error'])\n",
    "            return None\n",
    "\n",
    "        return data['values']\n",
    "\n",
    "    except requests.exceptions.RequestException as e:\n",
    "        print(\"Error fetching data:\", e)\n",
    "        return None\n",
    "\n",
    "def main():\n",
    "    symbols = [\"COIN\", \"BTC/USD\", \"ETH/USD\"]  # Symbols for Coinbase, Bitcoin, and Ethereum\n",
    "    start_date = \"2013-01-01\"  # Specify your start date\n",
    "    end_date = \"2024-04-01\"    # Specify your end date\n",
    "    api_key = os.getenv(\"TWELVE_DATA_API_KEY\")\n",
    "\n",
    "    # Create an empty DataFrame to store the data\n",
    "    df = pd.DataFrame(columns=[\"Date\"])\n",
    "\n",
    "    for symbol in symbols:\n",
    "        # Fetch stock data\n",
    "        stock_data = fetch_stock_data(symbol, start_date, end_date, api_key)\n",
    "        if stock_data:\n",
    "            # Populate the DataFrame with fetched data\n",
    "            symbol_data = []\n",
    "            for data_point in stock_data:\n",
    "                timestamp = datetime.fromisoformat(data_point['datetime'])\n",
    "                close_price = data_point['close']\n",
    "                symbol_data.append({\"Date\": timestamp, symbol: close_price})\n",
    "            \n",
    "            # Create DataFrame for the current symbol's data\n",
    "            symbol_df = pd.DataFrame(symbol_data)\n",
    "            \n",
    "            # Merge with the main DataFrame on the common \"Date\" column\n",
    "            df = pd.merge(df, symbol_df, on=\"Date\", how=\"outer\")\n",
    "\n",
    "            # Print the symbol and length of DataFrame\n",
    "            print(f\"Symbol: {symbol}, Length of DataFrame: {len(df)}\")\n",
    "\n",
    "    # Sort DataFrame by date\n",
    "    df.sort_values(by=\"Date\", inplace=True)\n",
    "    df.reset_index(drop=True, inplace=True)\n",
    "\n",
    "    # Remove rows with N/A values and set the Date as the index\n",
    "\n",
    "    df.dropna(inplace=True)\n",
    "    df.set_index(\"Date\", inplace=True)\n",
    "\n",
    "    # Return the DataFrame\n",
    "    return df"
   ]
  },
  {
   "cell_type": "code",
   "execution_count": 6,
   "metadata": {},
   "outputs": [
    {
     "name": "stdout",
     "output_type": "stream",
     "text": [
      "Symbol: COIN, Length of DataFrame: 745\n",
      "Symbol: BTC/USD, Length of DataFrame: 3303\n",
      "Symbol: ETH/USD, Length of DataFrame: 3303\n",
      "Number of rows in DataFrame: 640\n",
      "                 COIN      BTC/USD     ETH/USD\n",
      "Date                                          \n",
      "2021-09-13  242.84000  44947.69141  3284.03003\n",
      "2021-09-14  243.00000  47130.89844  3429.45996\n",
      "2021-09-15  247.07001  48148.12109  3613.13989\n",
      "2021-09-16  243.21001  47753.16016  3568.30005\n",
      "2021-09-17  245.19000  47301.23047  3399.03003\n"
     ]
    }
   ],
   "source": [
    "# Call the main function and store the returned DataFrame\n",
    "clean_data = main()\n",
    "\n",
    "print(\"Number of rows in DataFrame:\", len(clean_data))\n",
    "print(clean_data.head())"
   ]
  },
  {
   "cell_type": "code",
   "execution_count": 7,
   "metadata": {},
   "outputs": [
    {
     "name": "stdout",
     "output_type": "stream",
     "text": [
      "             COIN   BTC/USD   ETH/USD\n",
      "COIN     1.000000  0.912992  0.960103\n",
      "BTC/USD  0.912992  1.000000  0.929395\n",
      "ETH/USD  0.960103  0.929395  1.000000\n"
     ]
    }
   ],
   "source": [
    "final_data = clean_data.copy()\n",
    "\n",
    "final_data = final_data.apply(pd.to_numeric)\n",
    "\n",
    "# Display correlation matrix\n",
    "\n",
    "correlation_matrix = final_data[['COIN', 'BTC/USD', 'ETH/USD']].corr()\n",
    "print(correlation_matrix)"
   ]
  },
  {
   "cell_type": "code",
   "execution_count": 8,
   "metadata": {},
   "outputs": [
    {
     "ename": "KeyError",
     "evalue": "'ETH/USD_Position'",
     "output_type": "error",
     "traceback": [
      "\u001b[1;31m---------------------------------------------------------------------------\u001b[0m",
      "\u001b[1;31mKeyError\u001b[0m                                  Traceback (most recent call last)",
      "File \u001b[1;32mc:\\Users\\ryank\\anaconda_recent\\Lib\\site-packages\\pandas\\core\\indexes\\base.py:3653\u001b[0m, in \u001b[0;36mIndex.get_loc\u001b[1;34m(self, key)\u001b[0m\n\u001b[0;32m   3652\u001b[0m \u001b[38;5;28;01mtry\u001b[39;00m:\n\u001b[1;32m-> 3653\u001b[0m     \u001b[38;5;28;01mreturn\u001b[39;00m \u001b[38;5;28mself\u001b[39m\u001b[38;5;241m.\u001b[39m_engine\u001b[38;5;241m.\u001b[39mget_loc(casted_key)\n\u001b[0;32m   3654\u001b[0m \u001b[38;5;28;01mexcept\u001b[39;00m \u001b[38;5;167;01mKeyError\u001b[39;00m \u001b[38;5;28;01mas\u001b[39;00m err:\n",
      "File \u001b[1;32mc:\\Users\\ryank\\anaconda_recent\\Lib\\site-packages\\pandas\\_libs\\index.pyx:147\u001b[0m, in \u001b[0;36mpandas._libs.index.IndexEngine.get_loc\u001b[1;34m()\u001b[0m\n",
      "File \u001b[1;32mc:\\Users\\ryank\\anaconda_recent\\Lib\\site-packages\\pandas\\_libs\\index.pyx:176\u001b[0m, in \u001b[0;36mpandas._libs.index.IndexEngine.get_loc\u001b[1;34m()\u001b[0m\n",
      "File \u001b[1;32mpandas\\_libs\\hashtable_class_helper.pxi:7080\u001b[0m, in \u001b[0;36mpandas._libs.hashtable.PyObjectHashTable.get_item\u001b[1;34m()\u001b[0m\n",
      "File \u001b[1;32mpandas\\_libs\\hashtable_class_helper.pxi:7088\u001b[0m, in \u001b[0;36mpandas._libs.hashtable.PyObjectHashTable.get_item\u001b[1;34m()\u001b[0m\n",
      "\u001b[1;31mKeyError\u001b[0m: 'ETH/USD_Position'",
      "\nThe above exception was the direct cause of the following exception:\n",
      "\u001b[1;31mKeyError\u001b[0m                                  Traceback (most recent call last)",
      "Cell \u001b[1;32mIn[8], line 13\u001b[0m\n\u001b[0;32m     11\u001b[0m \u001b[38;5;66;03m# Enter long position if spread exceeds entry threshold\u001b[39;00m\n\u001b[0;32m     12\u001b[0m buy_condition \u001b[38;5;241m=\u001b[39m spread \u001b[38;5;241m>\u001b[39m mean_spread \u001b[38;5;241m+\u001b[39m entry_threshold \u001b[38;5;241m*\u001b[39m std_spread\n\u001b[1;32m---> 13\u001b[0m final_data[\u001b[38;5;124mf\u001b[39m\u001b[38;5;124m\"\u001b[39m\u001b[38;5;132;01m{\u001b[39;00mstock1\u001b[38;5;132;01m}\u001b[39;00m\u001b[38;5;124m_Position\u001b[39m\u001b[38;5;124m\"\u001b[39m] \u001b[38;5;241m=\u001b[39m final_data[\u001b[38;5;124mf\u001b[39m\u001b[38;5;124m\"\u001b[39m\u001b[38;5;132;01m{\u001b[39;00mstock1\u001b[38;5;132;01m}\u001b[39;00m\u001b[38;5;124m_Position\u001b[39m\u001b[38;5;124m\"\u001b[39m]\u001b[38;5;241m.\u001b[39mmask(buy_condition, \u001b[38;5;124m\"\u001b[39m\u001b[38;5;124mBuy\u001b[39m\u001b[38;5;124m\"\u001b[39m)\n\u001b[0;32m     14\u001b[0m final_data[\u001b[38;5;124mf\u001b[39m\u001b[38;5;124m\"\u001b[39m\u001b[38;5;132;01m{\u001b[39;00mstock2\u001b[38;5;132;01m}\u001b[39;00m\u001b[38;5;124m_Position\u001b[39m\u001b[38;5;124m\"\u001b[39m] \u001b[38;5;241m=\u001b[39m final_data[\u001b[38;5;124mf\u001b[39m\u001b[38;5;124m\"\u001b[39m\u001b[38;5;132;01m{\u001b[39;00mstock2\u001b[38;5;132;01m}\u001b[39;00m\u001b[38;5;124m_Position\u001b[39m\u001b[38;5;124m\"\u001b[39m]\u001b[38;5;241m.\u001b[39mmask(buy_condition, \u001b[38;5;124m\"\u001b[39m\u001b[38;5;124mSell\u001b[39m\u001b[38;5;124m\"\u001b[39m)\n\u001b[0;32m     16\u001b[0m \u001b[38;5;66;03m# Exit long position if spread falls below exit threshold\u001b[39;00m\n",
      "File \u001b[1;32mc:\\Users\\ryank\\anaconda_recent\\Lib\\site-packages\\pandas\\core\\frame.py:3761\u001b[0m, in \u001b[0;36mDataFrame.__getitem__\u001b[1;34m(self, key)\u001b[0m\n\u001b[0;32m   3759\u001b[0m \u001b[38;5;28;01mif\u001b[39;00m \u001b[38;5;28mself\u001b[39m\u001b[38;5;241m.\u001b[39mcolumns\u001b[38;5;241m.\u001b[39mnlevels \u001b[38;5;241m>\u001b[39m \u001b[38;5;241m1\u001b[39m:\n\u001b[0;32m   3760\u001b[0m     \u001b[38;5;28;01mreturn\u001b[39;00m \u001b[38;5;28mself\u001b[39m\u001b[38;5;241m.\u001b[39m_getitem_multilevel(key)\n\u001b[1;32m-> 3761\u001b[0m indexer \u001b[38;5;241m=\u001b[39m \u001b[38;5;28mself\u001b[39m\u001b[38;5;241m.\u001b[39mcolumns\u001b[38;5;241m.\u001b[39mget_loc(key)\n\u001b[0;32m   3762\u001b[0m \u001b[38;5;28;01mif\u001b[39;00m is_integer(indexer):\n\u001b[0;32m   3763\u001b[0m     indexer \u001b[38;5;241m=\u001b[39m [indexer]\n",
      "File \u001b[1;32mc:\\Users\\ryank\\anaconda_recent\\Lib\\site-packages\\pandas\\core\\indexes\\base.py:3655\u001b[0m, in \u001b[0;36mIndex.get_loc\u001b[1;34m(self, key)\u001b[0m\n\u001b[0;32m   3653\u001b[0m     \u001b[38;5;28;01mreturn\u001b[39;00m \u001b[38;5;28mself\u001b[39m\u001b[38;5;241m.\u001b[39m_engine\u001b[38;5;241m.\u001b[39mget_loc(casted_key)\n\u001b[0;32m   3654\u001b[0m \u001b[38;5;28;01mexcept\u001b[39;00m \u001b[38;5;167;01mKeyError\u001b[39;00m \u001b[38;5;28;01mas\u001b[39;00m err:\n\u001b[1;32m-> 3655\u001b[0m     \u001b[38;5;28;01mraise\u001b[39;00m \u001b[38;5;167;01mKeyError\u001b[39;00m(key) \u001b[38;5;28;01mfrom\u001b[39;00m \u001b[38;5;21;01merr\u001b[39;00m\n\u001b[0;32m   3656\u001b[0m \u001b[38;5;28;01mexcept\u001b[39;00m \u001b[38;5;167;01mTypeError\u001b[39;00m:\n\u001b[0;32m   3657\u001b[0m     \u001b[38;5;66;03m# If we have a listlike key, _check_indexing_error will raise\u001b[39;00m\n\u001b[0;32m   3658\u001b[0m     \u001b[38;5;66;03m#  InvalidIndexError. Otherwise we fall through and re-raise\u001b[39;00m\n\u001b[0;32m   3659\u001b[0m     \u001b[38;5;66;03m#  the TypeError.\u001b[39;00m\n\u001b[0;32m   3660\u001b[0m     \u001b[38;5;28mself\u001b[39m\u001b[38;5;241m.\u001b[39m_check_indexing_error(key)\n",
      "\u001b[1;31mKeyError\u001b[0m: 'ETH/USD_Position'"
     ]
    }
   ],
   "source": [
    "pairs = [('ETH/USD', 'BTC/USD'), ('ETH/USD', 'COIN'), ('BTC/USD', 'COIN')]\n",
    "\n",
    "for pair in pairs:\n",
    "    stock1, stock2 = pair\n",
    "    spread = final_data[stock1] - final_data[stock2]\n",
    "    mean_spread = spread.mean()\n",
    "    std_spread = spread.std()\n",
    "    entry_threshold = 1.5  # Adjust entry threshold as needed\n",
    "    exit_threshold = 0.5   # Adjust exit threshold as needed\n",
    "    \n",
    "    # Enter long position if spread exceeds entry threshold\n",
    "    buy_condition = spread > mean_spread + entry_threshold * std_spread\n",
    "    final_data[f\"{stock1}_Position\"] = final_data[f\"{stock1}_Position\"].mask(buy_condition, \"Buy\")\n",
    "    final_data[f\"{stock2}_Position\"] = final_data[f\"{stock2}_Position\"].mask(buy_condition, \"Sell\")\n",
    "\n",
    "    # Exit long position if spread falls below exit threshold\n",
    "    sell_condition = spread < mean_spread + exit_threshold * std_spread\n",
    "    final_data[f\"{stock1}_Position\"] = final_data[f\"{stock1}_Position\"].mask(sell_condition, \"Sell\")\n",
    "    final_data[f\"{stock2}_Position\"] = final_data[f\"{stock2}_Position\"].mask(sell_condition, \"Buy\")\n",
    "\n",
    "\n",
    "print(final_data)"
   ]
  }
 ],
 "metadata": {
  "kernelspec": {
   "display_name": "base",
   "language": "python",
   "name": "python3"
  },
  "language_info": {
   "codemirror_mode": {
    "name": "ipython",
    "version": 3
   },
   "file_extension": ".py",
   "mimetype": "text/x-python",
   "name": "python",
   "nbconvert_exporter": "python",
   "pygments_lexer": "ipython3",
   "version": "3.11.5"
  }
 },
 "nbformat": 4,
 "nbformat_minor": 2
}
